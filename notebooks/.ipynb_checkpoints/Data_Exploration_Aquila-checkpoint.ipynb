{
 "cells": [
  {
   "cell_type": "markdown",
   "id": "1da09578",
   "metadata": {},
   "source": [
    "# Understanding the Lakh Dataset"
   ]
  },
  {
   "cell_type": "markdown",
   "id": "8e987c00",
   "metadata": {},
   "source": [
    "MIDI data is a file type that preserves symbolic meaning. It doesn't hold any particular sound, rather it contains the data needed to produce that sound. Think of it like a recipe book. There are no ingredients inside of the book, but it is referenced during the cooking process. \n",
    "\n",
    "MIDI files come with the necessary data to synthesize the data. Hence it may include what instruments should be used to synthesize the music, but someone may choose to ignore this the same way a chef may change out parsley for cilatro in a recipe.\n",
    "\n",
    "### Useful Tools \n",
    "Since we will be working programmatically with musical data we can will be using pythonic tools. \n",
    "Here is a list of valuable tools:\n"
   ]
  },
  {
   "cell_type": "code",
   "execution_count": null,
   "id": "9c8f9e23",
   "metadata": {},
   "outputs": [],
   "source": []
  }
 ],
 "metadata": {
  "kernelspec": {
   "display_name": "Python 3 (ipykernel)",
   "language": "python",
   "name": "python3"
  },
  "language_info": {
   "codemirror_mode": {
    "name": "ipython",
    "version": 3
   },
   "file_extension": ".py",
   "mimetype": "text/x-python",
   "name": "python",
   "nbconvert_exporter": "python",
   "pygments_lexer": "ipython3",
   "version": "3.11.7"
  }
 },
 "nbformat": 4,
 "nbformat_minor": 5
}
