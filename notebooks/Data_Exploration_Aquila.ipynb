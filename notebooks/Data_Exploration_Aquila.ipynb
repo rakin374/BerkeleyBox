{
 "cells": [
  {
   "cell_type": "markdown",
   "id": "6ecc4c68",
   "metadata": {},
   "source": [
    "# Understanding the Lakh Dataset"
   ]
  },
  {
   "cell_type": "markdown",
   "id": "6542d011",
   "metadata": {},
   "source": [
    "MIDI data is a file type that preserves symbolic meaning. It doesn't hold any particular sound, rather it contains the data needed to produce that sound. Think of it like a recipe book. There are no ingredients inside of the book, but it is referenced during the cooking process. \n",
    "\n",
    "MIDI files come with the necessary data to synthesize the data. Hence it may include what instruments should be used to synthesize the music, but someone may choose to ignore this the same way a chef may change out parsley for cilatro in a recipe.\n",
    "\n",
    "### Useful Tools \n",
    "Since we will be working programmatically with musical data we can will be using pythonic tools. \n",
    "Here is a list of valuable tools:\n",
    "\n",
    "\n",
    "NOTES\n",
    "- Scores are kind of like semantic trees and have a structure that is well defined. It reminds me of the ARC. \n",
    "- Midi files contain all sorts of data from key changes, to lyrics. Maybe we can work with that kind of data\n",
    "\n"
   ]
  },
  {
   "cell_type": "markdown",
   "id": "e4ed4c17",
   "metadata": {},
   "source": [
    "## Notes on tips from the Dr. Raffel\n",
    "https://nbviewer.org/github/craffel/midi-dataset/blob/master/Tutorial.ipynb\n",
    "\n",
    "https://nbviewer.org/github/craffel/midi-ground-truth/blob/master/Statistics.ipynb\n",
    "- midi files might not be consistent"
   ]
  },
  {
   "cell_type": "code",
   "execution_count": 1,
   "id": "c72e0211",
   "metadata": {},
   "outputs": [],
   "source": [
    "# Imports \n",
    "from music21 import *\n",
    "# Imports from Dr. Raffel \n",
    "import numpy as np\n",
    "import matplotlib.pyplot as plt\n",
    "%matplotlib inline\n",
    "import pretty_midi\n",
    "import librosa\n",
    "import mir_eval\n",
    "import mir_eval.display\n",
    "import tables\n",
    "import IPython.display\n",
    "import os\n",
    "import json\n",
    "\n",
    "\n",
    "# Local path constants\n",
    "DATA_PATH = '../data'\n",
    "RESULTS_PATH = '../results'\n",
    "# Path to the file match_scores.json distributed with the LMD\n",
    "SCORE_FILE = os.path.join(RESULTS_PATH, 'match_scores.json')\n",
    "\n",
    "# Utility functions for retrieving paths\n",
    "def msd_id_to_dirs(msd_id):\n",
    "    \"\"\"Given an MSD ID, generate the path prefix.\n",
    "    E.g. TRABCD12345678 -> A/B/C/TRABCD12345678\"\"\"\n",
    "    return os.path.join(msd_id[2], msd_id[3], msd_id[4], msd_id)\n",
    "\n",
    "def msd_id_to_mp3(msd_id):\n",
    "    \"\"\"Given an MSD ID, return the path to the corresponding mp3\"\"\"\n",
    "    return os.path.join(DATA_PATH, 'msd', 'mp3',\n",
    "                        msd_id_to_dirs(msd_id) + '.mp3')\n",
    "\n",
    "def msd_id_to_h5(h5):\n",
    "    \"\"\"Given an MSD ID, return the path to the corresponding h5\"\"\"\n",
    "    return os.path.join(RESULTS_PATH, 'lmd_matched_h5',\n",
    "                        msd_id_to_dirs(msd_id) + '.h5')\n",
    "\n",
    "def get_midi_path(msd_id, midi_md5, kind):\n",
    "    \"\"\"Given an MSD ID and MIDI MD5, return path to a MIDI file.\n",
    "    kind should be one of 'matched' or 'aligned'. \"\"\"\n",
    "    return os.path.join(RESULTS_PATH, 'lmd_{}'.format(kind),\n",
    "                        msd_id_to_dirs(msd_id), midi_md5 + '.mid')"
   ]
  },
  {
   "cell_type": "code",
   "execution_count": 23,
   "id": "c466bb71",
   "metadata": {},
   "outputs": [
    {
     "ename": "FileNotFoundError",
     "evalue": "[Errno 2] No such file or directory: '/Users/rakin/Desktop/data'",
     "output_type": "error",
     "traceback": [
      "\u001b[0;31m---------------------------------------------------------------------------\u001b[0m",
      "\u001b[0;31mFileNotFoundError\u001b[0m                         Traceback (most recent call last)",
      "Cell \u001b[0;32mIn[23], line 2\u001b[0m\n\u001b[1;32m      1\u001b[0m \u001b[38;5;28;01mimport\u001b[39;00m \u001b[38;5;21;01mos\u001b[39;00m\n\u001b[0;32m----> 2\u001b[0m os\u001b[38;5;241m.\u001b[39mchdir(os\u001b[38;5;241m.\u001b[39mpath\u001b[38;5;241m.\u001b[39mjoin(os\u001b[38;5;241m.\u001b[39mpath\u001b[38;5;241m.\u001b[39mdirname(os\u001b[38;5;241m.\u001b[39mgetcwd()), \u001b[38;5;124m'\u001b[39m\u001b[38;5;124mdata\u001b[39m\u001b[38;5;124m'\u001b[39m)) \u001b[38;5;66;03m#Chatgpt\u001b[39;00m\n\u001b[1;32m      3\u001b[0m files \u001b[38;5;241m=\u001b[39m os\u001b[38;5;241m.\u001b[39mlistdir(data_path)\n\u001b[1;32m      5\u001b[0m \u001b[38;5;66;03m# Print the files (only files, not directories)\u001b[39;00m\n",
      "\u001b[0;31mFileNotFoundError\u001b[0m: [Errno 2] No such file or directory: '/Users/rakin/Desktop/data'"
     ]
    }
   ],
   "source": [
    "\n",
    "import os\n",
    "os.chdir(os.path.join(os.path.dirname(os.getcwd()), 'data')) #Chatgpt\n",
    "files = os.listdir(data_path)\n",
    "\n",
    "# Print the files (only files, not directories)\n",
    "for file in files:\n",
    "    if os.path.isfile(os.path.join(data_path, file)):\n",
    "        print(file)"
   ]
  },
  {
   "cell_type": "markdown",
   "id": "6055e820",
   "metadata": {},
   "source": [
    "## Some Basic Notes on Tools: \n",
    "- Lilypond: A language similar to Tex for music. Tex actually supports lilypond sentences for files as well. It provides customizability for engraving scores. Think of it like as a way to build fonts, closeness, etc. \n",
    "\n",
    "- Humdrum: A language and tool set. The language provides a syntax and grammer to encode musical information. The language is actually what MIDI uses. The tool set is a command line tool set that provides a whole bunch of command line tools for musicology analysis \n",
    "\n",
    "- Music21: A python library built at MIT. This library contains many different functions from python to work with music\n",
    "\n",
    "- PrettyMidi: This is a python libraries built by Colin Raffel. It allows for easy viewing of Midifiles, its especially valuable for jupyter notebook printouts. If you are connected to a compute cluster, then you can't see applications, hence the printings done by Music21 are rendered unusable. "
   ]
  },
  {
   "cell_type": "markdown",
   "id": "7e9c1807",
   "metadata": {},
   "source": [
    "# The 4 Notebooks "
   ]
  },
  {
   "cell_type": "markdown",
   "id": "5720317e",
   "metadata": {},
   "source": [
    "Link: https://nbviewer.org/github/craffel/midi-dataset/blob/master/Tutorial.ipynb"
   ]
  },
  {
   "cell_type": "markdown",
   "id": "aa766827",
   "metadata": {},
   "source": [
    "# Some Basics of MIDI & Music "
   ]
  },
  {
   "cell_type": "markdown",
   "id": "0dceb136",
   "metadata": {},
   "source": [
    "Vocabulary\n",
    "- Notes: The most fundamental building block of music. Think of it as letters in a word \n",
    "- Scale: Specific sequence of notes in some specific order \n",
    "- Major scale: Starting and ending notes are the same, every other note is included just one\n",
    "- Semitone: half step(closes note) \n",
    "    - When we look at transitions from one note to another we can give it an annotation such as semitone or tone. DE := tone | C#D := semitone\n",
    "- Tone: whole step \n",
    "- Octave: \n",
    "- Upbeat : \n",
    "- Downbeat: \n",
    "- Key signature: \n",
    "- Progression: series of chords played in a sequence \n",
    "- (beat, downbeat) : Useful if we're working with audio files and want to do key estimation. \n",
    "- Pitch \n",
    "- Harmony \n",
    "- fundamental frequency \n"
   ]
  },
  {
   "cell_type": "markdown",
   "id": "00cb6240",
   "metadata": {},
   "source": [
    "##  Extra stuff \n",
    "What else can we teach the model? How can we evaluate how well it does on musical reasoning based tasks. And how can we do it the 'lug fep' language. \n",
    "\n",
    "\n"
   ]
  }
 ],
 "metadata": {
  "kernelspec": {
   "display_name": "Python 3 (ipykernel)",
   "language": "python",
   "name": "python3"
  },
  "language_info": {
   "codemirror_mode": {
    "name": "ipython",
    "version": 3
   },
   "file_extension": ".py",
   "mimetype": "text/x-python",
   "name": "python",
   "nbconvert_exporter": "python",
   "pygments_lexer": "ipython3",
   "version": "3.11.7"
  }
 },
 "nbformat": 4,
 "nbformat_minor": 5
}
