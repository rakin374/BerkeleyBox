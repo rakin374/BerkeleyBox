{
 "cells": [
  {
   "cell_type": "markdown",
   "id": "6ecc4c68",
   "metadata": {},
   "source": [
    "# Understanding the Lakh Dataset"
   ]
  },
  {
   "cell_type": "markdown",
   "id": "6542d011",
   "metadata": {},
   "source": [
    "MIDI data is a file type that preserves symbolic meaning. It doesn't hold any particular sound, rather it contains the data needed to produce that sound. Think of it like a recipe book. There are no ingredients inside of the book, but it is referenced during the cooking process. \n",
    "\n",
    "MIDI files come with the necessary data to synthesize the data. Hence it may include what instruments should be used to synthesize the music, but someone may choose to ignore this the same way a chef may change out parsley for cilatro in a recipe.\n",
    "\n",
    "### Useful Tools \n",
    "Since we will be working programmatically with musical data we can will be using pythonic tools. \n",
    "Here is a list of valuable tools:\n",
    "\n",
    "\n",
    "NOTES\n",
    "- Scores are kind of like semantic trees and have a structure that is well defined. It reminds me of the ARC. \n",
    "- Midi files contain all sorts of data from key changes, to lyrics. Maybe we can work with that kind of data\n",
    "\n"
   ]
  },
  {
   "cell_type": "markdown",
   "id": "e4ed4c17",
   "metadata": {},
   "source": [
    "## Notes on tips from the Dr. Raffel\n",
    "https://nbviewer.org/github/craffel/midi-dataset/blob/master/Tutorial.ipynb\n",
    "\n",
    "https://nbviewer.org/github/craffel/midi-ground-truth/blob/master/Statistics.ipynb\n",
    "- midi files might not be consistent"
   ]
  },
  {
   "cell_type": "code",
   "execution_count": null,
   "id": "c466bb71",
   "metadata": {},
   "outputs": [],
   "source": []
  }
 ],
 "metadata": {
  "kernelspec": {
   "display_name": "Python 3 (ipykernel)",
   "language": "python",
   "name": "python3"
  },
  "language_info": {
   "codemirror_mode": {
    "name": "ipython",
    "version": 3
   },
   "file_extension": ".py",
   "mimetype": "text/x-python",
   "name": "python",
   "nbconvert_exporter": "python",
   "pygments_lexer": "ipython3",
   "version": "3.11.7"
  }
 },
 "nbformat": 4,
 "nbformat_minor": 5
}
