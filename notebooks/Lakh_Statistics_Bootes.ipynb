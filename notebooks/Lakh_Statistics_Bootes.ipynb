{
 "cells": [
  {
   "cell_type": "markdown",
   "id": "ad7b71b5",
   "metadata": {},
   "source": [
    "# Lakh Statistics"
   ]
  },
  {
   "cell_type": "code",
   "execution_count": 2,
   "id": "f5993f2e",
   "metadata": {},
   "outputs": [],
   "source": [
    "# Imports \n",
    "from music21 import *\n",
    "# Imports from Dr. Raffel \n",
    "import numpy as np\n",
    "import matplotlib.pyplot as plt\n",
    "%matplotlib inline\n",
    "import pretty_midi\n",
    "import librosa\n",
    "import mir_eval\n",
    "import mir_eval.display\n",
    "import tables\n",
    "import IPython.display\n",
    "import os\n",
    "import json"
   ]
  },
  {
   "cell_type": "code",
   "execution_count": null,
   "id": "1e3f1254",
   "metadata": {},
   "outputs": [],
   "source": [
    "https://colab.research.google.com/github/pytorch/pytorch.github.io/blob/master/assets/hub/pytorch_vision_resnet.ipynb"
   ]
  }
 ],
 "metadata": {
  "kernelspec": {
   "display_name": "Python 3 (ipykernel)",
   "language": "python",
   "name": "python3"
  },
  "language_info": {
   "codemirror_mode": {
    "name": "ipython",
    "version": 3
   },
   "file_extension": ".py",
   "mimetype": "text/x-python",
   "name": "python",
   "nbconvert_exporter": "python",
   "pygments_lexer": "ipython3",
   "version": "3.11.9"
  }
 },
 "nbformat": 4,
 "nbformat_minor": 5
}
