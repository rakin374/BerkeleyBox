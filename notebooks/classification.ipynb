{
 "cells": [
  {
   "cell_type": "code",
   "execution_count": null,
   "id": "03d1dac9",
   "metadata": {},
   "outputs": [],
   "source": [
    "import os\n",
    "import json\n",
    "from dotenv import load_dotenv\n",
    "from openai import OpenAI"
   ]
  },
  {
   "cell_type": "code",
   "execution_count": null,
   "id": "a4a5afe0",
   "metadata": {},
   "outputs": [],
   "source": [
    "load_dotenv()\n",
    "api_key = os.getenv(\"OPENAI_API_KEY\")\n",
    "client = OpenAI(api_key=api_key)\n",
    "\n",
    "def classify_song_with_gpt(song_name):\n",
    "    try:\n",
    "        prompt = f\"Classify the following song '{song_name}' into three music genres or styles. Provide three classifications separated by commas, for example: ['disco', 'funky', '80s']\"\n",
    "        response = client.chat.completions.create(\n",
    "            model=\"gpt-3.5-turbo\",\n",
    "            messages=[\n",
    "                {\"role\": \"user\", \"content\": prompt}\n",
    "            ]\n",
    "        )\n",
    "        message_content = response.choices[0].message.content.strip()\n",
    "        return message_content\n",
    "    except Exception as e:\n",
    "        return f\"Error: Unable to classify song {song_name} due to {str(e)}\"\n",
    "\n",
    "def process_lakh_midi_directory():\n",
    "    recognized_songs_classifications = []\n",
    "    base_dir = os.getcwd()\n",
    "    data_dir = os.path.join(base_dir, '..', 'data')\n",
    "    clean_midi_dir = os.path.join(data_dir, 'clean_midi')\n",
    "\n",
    "    for artist_folder in os.listdir(clean_midi_dir):\n",
    "        artist_folder_path = os.path.join(clean_midi_dir, artist_folder)\n",
    "        if os.path.isdir(artist_folder_path):\n",
    "            song_files = [f for f in os.listdir(artist_folder_path) if f.endswith('.mid')]\n",
    "            if song_files:\n",
    "                song_name = song_files[0].replace('.mid', '')\n",
    "                print(f\"Found song: {song_name} in {artist_folder_path}\")\n",
    "                \n",
    "                classification = classify_song_with_gpt(song_name)\n",
    "                \n",
    "                if \"Error\" not in classification:\n",
    "                    print(f\"Classifications for {song_name}: {classification}\")\n",
    "                    recognized_songs_classifications.append({\n",
    "                        \"song\": song_name,\n",
    "                        \"classification\": classification\n",
    "                    })\n",
    "                else:\n",
    "                    print(f\"Skipping {song_name}: {classification}\")\n",
    "\n",
    "    return recognized_songs_classifications\n",
    "\n",
    "recognized_songs_classifications = process_lakh_midi_directory()\n",
    "\n",
    "with open('recognized_songs_classifications.json', 'w') as f:\n",
    "    json.dump(recognized_songs_classifications, f, indent=4)\n",
    "\n",
    "print(\"Finished processing songs.\") "
   ]
  }
 ],
 "metadata": {
  "kernelspec": {
   "display_name": "Python 3",
   "language": "python",
   "name": "python3"
  },
  "language_info": {
   "codemirror_mode": {
    "name": "ipython",
    "version": 3
   },
   "file_extension": ".py",
   "mimetype": "text/x-python",
   "name": "python",
   "nbconvert_exporter": "python",
   "pygments_lexer": "ipython3",
   "version": "3.11.8"
  }
 },
 "nbformat": 4,
 "nbformat_minor": 5
}
